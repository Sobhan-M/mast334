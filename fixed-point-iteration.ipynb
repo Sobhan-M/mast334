{
 "cells": [
  {
   "cell_type": "markdown",
   "metadata": {},
   "source": [
    "# Fixed Point Iteration\n",
    "A method to approximate the fixed point of a function."
   ]
  },
  {
   "cell_type": "code",
   "execution_count": 4,
   "metadata": {},
   "outputs": [],
   "source": [
    "import numpy as np"
   ]
  },
  {
   "cell_type": "code",
   "execution_count": 24,
   "metadata": {},
   "outputs": [],
   "source": [
    "def fixedPointIteration(f, start, trueValue, tolerance, nMax):\n",
    "\tp = start\n",
    "\tfor n in range(nMax+1):\n",
    "\t\tprint(f\"Iteration {n}: p = {p}\")\n",
    "\n",
    "\t\tif abs(trueValue - p) < tolerance:\n",
    "\t\t\treturn p\n",
    "\n",
    "\t\tp = f(p)\n",
    "\t\t\n",
    "\traise Exception(f\"Exceeded maximum iterations {nMax}\")"
   ]
  },
  {
   "cell_type": "code",
   "execution_count": 28,
   "metadata": {},
   "outputs": [
    {
     "name": "stdout",
     "output_type": "stream",
     "text": [
      "Iteration 0: p = 2\n",
      "Iteration 1: p = 1.8\n",
      "Iteration 2: p = 1.752\n",
      "Iteration 3: p = 1.7380992\n",
      "Iteration 4: p = 1.7339014341918721\n",
      "Iteration 5: p = 1.732618597493346\n",
      "Iteration 6: p = 1.732225156617384\n",
      "Iteration 7: p = 1.7321043579737598\n"
     ]
    },
    {
     "data": {
      "text/plain": [
       "1.7321043579737598"
      ]
     },
     "execution_count": 28,
     "metadata": {},
     "output_type": "execute_result"
    }
   ],
   "source": [
    "g = lambda x : (-1/5)*(x*x-3-5*x)\n",
    "fixedPointIteration(g, 2, 1.732050808, 0.0001, 20)"
   ]
  },
  {
   "cell_type": "code",
   "execution_count": 14,
   "metadata": {},
   "outputs": [
    {
     "name": "stdout",
     "output_type": "stream",
     "text": [
      "Iteration 0: p=0\n",
      "Iteration 1: p=3.141592653589793\n",
      "Iteration 2: p=3.641592653589793\n",
      "Iteration 3: p=3.6260488644451154\n"
     ]
    },
    {
     "data": {
      "text/plain": [
       "3.6260488644451154"
      ]
     },
     "execution_count": 14,
     "metadata": {},
     "output_type": "execute_result"
    }
   ],
   "source": [
    "g = lambda x : np.pi + 0.5 * np.sin(x/2)\n",
    "fixedPointIteration(g, 0, 3.62694, 0.01, 20)"
   ]
  }
 ],
 "metadata": {
  "kernelspec": {
   "display_name": "Python 3.10.4 64-bit",
   "language": "python",
   "name": "python3"
  },
  "language_info": {
   "codemirror_mode": {
    "name": "ipython",
    "version": 3
   },
   "file_extension": ".py",
   "mimetype": "text/x-python",
   "name": "python",
   "nbconvert_exporter": "python",
   "pygments_lexer": "ipython3",
   "version": "3.10.4"
  },
  "orig_nbformat": 4,
  "vscode": {
   "interpreter": {
    "hash": "916dbcbb3f70747c44a77c7bcd40155683ae19c65e1c03b4aa3499c5328201f1"
   }
  }
 },
 "nbformat": 4,
 "nbformat_minor": 2
}
