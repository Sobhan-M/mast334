{
 "cells": [
  {
   "cell_type": "markdown",
   "metadata": {},
   "source": [
    "# Steffensen's Method"
   ]
  },
  {
   "cell_type": "code",
   "execution_count": 11,
   "metadata": {},
   "outputs": [],
   "source": [
    "def findHat(p0, p1, p2):\n",
    "\treturn p0 - ((p1-p0)**2)/(p2-2*p1+p0)\n",
    "\n",
    "\n",
    "def steffensens(f, p0, tolerance, nMax):\n",
    "\tpArr = []\n",
    "\tfor n in range(nMax+1):\n",
    "\t\t# Special case at the beginning.\n",
    "\t\tif (n == 0):\n",
    "\t\t\tpArr.append(p0)\n",
    "\t\t\tprint(pArr[n])\n",
    "\t\t\tcontinue \n",
    "\t\t\n",
    "\t\t# Use DeltaSquare method every 3 iterations.\n",
    "\t\tif n % 3 == 0:\n",
    "\t\t\tpArr.append(findHat(pArr[-1], pArr[-2], pArr[-3]))\n",
    "\t\telse:\n",
    "\t\t\tpArr.append(f(pArr[-1]))\n",
    "\n",
    "\t\tprint(pArr[n])\n",
    "\n",
    "\t\tif abs(pArr[n] - pArr[n-1]) <= tolerance:\n",
    "\t\t\treturn pArr[n]\n",
    "\n",
    "\traise Exception(f\"Exceeded maximum iterations {nMax}\")\n",
    "\n",
    "\t"
   ]
  },
  {
   "cell_type": "markdown",
   "metadata": {},
   "source": [
    "### 2.5 - 12(b)"
   ]
  },
  {
   "cell_type": "code",
   "execution_count": 12,
   "metadata": {},
   "outputs": [
    {
     "name": "stdout",
     "output_type": "stream",
     "text": [
      "2\n",
      "1\n",
      "-5\n",
      "2.2\n",
      "3.448000000000004\n",
      "32.544251392000135\n",
      "2.1440717487760317\n",
      "2.7123196988807674\n",
      "12.241343362805829\n",
      "2.1080362823040595\n",
      "2.2596911171260956\n",
      "4.278752579214682\n",
      "2.095720170435824\n",
      "2.1087730027656644\n",
      "2.268779382181716\n",
      "2.094560780715677\n",
      "2.0946645734033122\n",
      "2.0959269215350123\n",
      "2.09455148213436\n",
      "2.0945514887423045\n"
     ]
    },
    {
     "data": {
      "text/plain": [
       "2.0945514887423045"
      ]
     },
     "execution_count": 12,
     "metadata": {},
     "output_type": "execute_result"
    }
   ],
   "source": [
    "steffensens(lambda x: x**3-x-5, 2, 0.00001, 20)"
   ]
  }
 ],
 "metadata": {
  "kernelspec": {
   "display_name": "Python 3.10.6 64-bit",
   "language": "python",
   "name": "python3"
  },
  "language_info": {
   "codemirror_mode": {
    "name": "ipython",
    "version": 3
   },
   "file_extension": ".py",
   "mimetype": "text/x-python",
   "name": "python",
   "nbconvert_exporter": "python",
   "pygments_lexer": "ipython3",
   "version": "3.10.6"
  },
  "orig_nbformat": 4,
  "vscode": {
   "interpreter": {
    "hash": "916dbcbb3f70747c44a77c7bcd40155683ae19c65e1c03b4aa3499c5328201f1"
   }
  }
 },
 "nbformat": 4,
 "nbformat_minor": 2
}
