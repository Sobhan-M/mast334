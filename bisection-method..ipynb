{
 "cells": [
  {
   "cell_type": "markdown",
   "metadata": {},
   "source": [
    "# Bisection Method\n",
    "This program includes an implementation of the bisection method used to find the approximate roots of a function."
   ]
  },
  {
   "cell_type": "code",
   "execution_count": 9,
   "metadata": {},
   "outputs": [],
   "source": [
    "def bisection(f, a, b, trueValue, tolerance, nMax):\n",
    "\tp = a\n",
    "\tfor n in range(nMax + 1):\n",
    "\t\tp = (a+b)/2\n",
    "\n",
    "\t\tprint(f\"Iteration {n}: a = {a} b: {b} f(a) = {f(a)} f(b) = {f(b)} p = {p} f(p) = {f(p)}\")\n",
    "\n",
    "\t\tif abs(trueValue - p) < tolerance:\n",
    "\t\t\treturn p\n",
    "\t\t\n",
    "\t\t# Deciding which side to replace with p based on the sign.\n",
    "\t\tif f(a) * f(p) > 0:\n",
    "\t\t\ta = p\n",
    "\t\telse:\n",
    "\t\t\tb = p\n",
    "\n",
    "\traise Exception(f\"Exceeded maximum iterations {nMax}\")"
   ]
  },
  {
   "cell_type": "code",
   "execution_count": 10,
   "metadata": {},
   "outputs": [
    {
     "name": "stdout",
     "output_type": "stream",
     "text": [
      "Iteration 0: a = 1 b: 2 f(a) = -2 f(b) = 1 p = 1.5 f(p) = -0.75\n",
      "Iteration 1: a = 1.5 b: 2 f(a) = -0.75 f(b) = 1 p = 1.75 f(p) = 0.0625\n",
      "Iteration 2: a = 1.5 b: 1.75 f(a) = -0.75 f(b) = 0.0625 p = 1.625 f(p) = -0.359375\n",
      "Iteration 3: a = 1.625 b: 1.75 f(a) = -0.359375 f(b) = 0.0625 p = 1.6875 f(p) = -0.15234375\n",
      "Iteration 4: a = 1.6875 b: 1.75 f(a) = -0.15234375 f(b) = 0.0625 p = 1.71875 f(p) = -0.0458984375\n",
      "Iteration 5: a = 1.71875 b: 1.75 f(a) = -0.0458984375 f(b) = 0.0625 p = 1.734375 f(p) = 0.008056640625\n",
      "Iteration 6: a = 1.71875 b: 1.734375 f(a) = -0.0458984375 f(b) = 0.008056640625 p = 1.7265625 f(p) = -0.01898193359375\n",
      "Iteration 7: a = 1.7265625 b: 1.734375 f(a) = -0.01898193359375 f(b) = 0.008056640625 p = 1.73046875 f(p) = -0.0054779052734375\n",
      "Iteration 8: a = 1.73046875 b: 1.734375 f(a) = -0.0054779052734375 f(b) = 0.008056640625 p = 1.732421875 f(p) = 0.001285552978515625\n",
      "Iteration 9: a = 1.73046875 b: 1.732421875 f(a) = -0.0054779052734375 f(b) = 0.001285552978515625 p = 1.7314453125 f(p) = -0.0020971298217773438\n",
      "Iteration 10: a = 1.7314453125 b: 1.732421875 f(a) = -0.0020971298217773438 f(b) = 0.001285552978515625 p = 1.73193359375 f(p) = -0.00040602684020996094\n",
      "Iteration 11: a = 1.73193359375 b: 1.732421875 f(a) = -0.00040602684020996094 f(b) = 0.001285552978515625 p = 1.732177734375 f(p) = 0.00043970346450805664\n",
      "Iteration 12: a = 1.73193359375 b: 1.732177734375 f(a) = -0.00040602684020996094 f(b) = 0.00043970346450805664 p = 1.7320556640625 f(p) = 1.6823410987854004e-05\n"
     ]
    },
    {
     "data": {
      "text/plain": [
       "1.7320556640625"
      ]
     },
     "execution_count": 10,
     "metadata": {},
     "output_type": "execute_result"
    }
   ],
   "source": [
    "bisection(lambda x : x*x - 3, 1, 2, 1.732050808, 0.0001, 100)"
   ]
  },
  {
   "cell_type": "code",
   "execution_count": 11,
   "metadata": {},
   "outputs": [
    {
     "name": "stdout",
     "output_type": "stream",
     "text": [
      "Iteration 0: a = 1 b: 2 f(a) = -1 f(b) = 5 p = 1.5 f(p) = 0.875\n",
      "Iteration 1: a = 1 b: 1.5 f(a) = -1 f(b) = 0.875 p = 1.25 f(p) = -0.296875\n",
      "Iteration 2: a = 1.25 b: 1.5 f(a) = -0.296875 f(b) = 0.875 p = 1.375 f(p) = 0.224609375\n",
      "Iteration 3: a = 1.25 b: 1.375 f(a) = -0.296875 f(b) = 0.224609375 p = 1.3125 f(p) = -0.051513671875\n",
      "Iteration 4: a = 1.3125 b: 1.375 f(a) = -0.051513671875 f(b) = 0.224609375 p = 1.34375 f(p) = 0.082611083984375\n",
      "Iteration 5: a = 1.3125 b: 1.34375 f(a) = -0.051513671875 f(b) = 0.082611083984375 p = 1.328125 f(p) = 0.014575958251953125\n",
      "Iteration 6: a = 1.3125 b: 1.328125 f(a) = -0.051513671875 f(b) = 0.014575958251953125 p = 1.3203125 f(p) = -0.018710613250732422\n",
      "Iteration 7: a = 1.3203125 b: 1.328125 f(a) = -0.018710613250732422 f(b) = 0.014575958251953125 p = 1.32421875 f(p) = -0.0021279454231262207\n",
      "Iteration 8: a = 1.32421875 b: 1.328125 f(a) = -0.0021279454231262207 f(b) = 0.014575958251953125 p = 1.326171875 f(p) = 0.006208829581737518\n",
      "Iteration 9: a = 1.32421875 b: 1.326171875 f(a) = -0.0021279454231262207 f(b) = 0.006208829581737518 p = 1.3251953125 f(p) = 0.002036650665104389\n",
      "Iteration 10: a = 1.32421875 b: 1.3251953125 f(a) = -0.0021279454231262207 f(b) = 0.002036650665104389 p = 1.32470703125 f(p) = -4.659488331526518e-05\n"
     ]
    },
    {
     "data": {
      "text/plain": [
       "1.32470703125"
      ]
     },
     "execution_count": 11,
     "metadata": {},
     "output_type": "execute_result"
    }
   ],
   "source": [
    "bisection(lambda x : x*x*x - x - 1, 1, 2, 1.32472, 0.0001, 100)"
   ]
  }
 ],
 "metadata": {
  "kernelspec": {
   "display_name": "Python 3.10.4 64-bit",
   "language": "python",
   "name": "python3"
  },
  "language_info": {
   "codemirror_mode": {
    "name": "ipython",
    "version": 3
   },
   "file_extension": ".py",
   "mimetype": "text/x-python",
   "name": "python",
   "nbconvert_exporter": "python",
   "pygments_lexer": "ipython3",
   "version": "3.10.4"
  },
  "orig_nbformat": 4,
  "vscode": {
   "interpreter": {
    "hash": "916dbcbb3f70747c44a77c7bcd40155683ae19c65e1c03b4aa3499c5328201f1"
   }
  }
 },
 "nbformat": 4,
 "nbformat_minor": 2
}
