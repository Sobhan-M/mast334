{
 "cells": [
  {
   "cell_type": "markdown",
   "metadata": {},
   "source": [
    "# Aitken's Delta Square Method"
   ]
  },
  {
   "cell_type": "code",
   "execution_count": 2,
   "metadata": {},
   "outputs": [],
   "source": [
    "def forwardDelta(x0,x1):\n",
    "\treturn x1-x0\n",
    "\n",
    "def forwardDeltaSquare(x0,x1,x2):\n",
    "\treturn x2-2*x1+x0\n",
    "\n",
    "def aitkens(f, n0, tolerance, nMax):\n",
    "\tpArr = [f(n0)]\n",
    "\tpArr.append(f(n0+1))\n",
    "\tpArr.append(f(n0+2))\n",
    "\n",
    "\tpHats = []\n",
    "\n",
    "\tfor n in range(nMax+1):\n",
    "\t\tdeltaSquare = forwardDeltaSquare(pArr[n], pArr[n+1], pArr[n+2])\n",
    "\t\tdelta = forwardDelta(pArr[n], pArr[n+1])\n",
    "\t\t# print(f\"d^2: {deltaSquare}; d: {delta}\")\n",
    "\n",
    "\t\t# Finding next value of pHat.\n",
    "\t\tpHats.append(pArr[n]-(delta*delta/deltaSquare))\n",
    "\n",
    "\t\tprint(pHats)\n",
    "\n",
    "\t\tif n > 0:\n",
    "\t\t\tif abs(pHats[n]) <= tolerance:\n",
    "\t\t\t\treturn pHats\n",
    "\n",
    "\t\t# Finding next value of p.\n",
    "\t\tpArr.append(f(n0+3+n))\n",
    "\n",
    "\traise Exception(f\"Exceeded maximum iterations {nMax}\")"
   ]
  },
  {
   "cell_type": "markdown",
   "metadata": {},
   "source": [
    "### 2.5 - 13(a)"
   ]
  },
  {
   "cell_type": "code",
   "execution_count": 3,
   "metadata": {},
   "outputs": [
    {
     "name": "stdout",
     "output_type": "stream",
     "text": [
      "[0.24999999999999978]\n",
      "[0.24999999999999978, 0.16666666666666674]\n",
      "[0.24999999999999978, 0.16666666666666674, 0.12500000000000003]\n",
      "[0.24999999999999978, 0.16666666666666674, 0.12500000000000003, 0.09999999999999978]\n",
      "[0.24999999999999978, 0.16666666666666674, 0.12500000000000003, 0.09999999999999978, 0.08333333333333347]\n",
      "[0.24999999999999978, 0.16666666666666674, 0.12500000000000003, 0.09999999999999978, 0.08333333333333347, 0.07142857142857154]\n",
      "[0.24999999999999978, 0.16666666666666674, 0.12500000000000003, 0.09999999999999978, 0.08333333333333347, 0.07142857142857154, 0.06249999999999978]\n",
      "[0.24999999999999978, 0.16666666666666674, 0.12500000000000003, 0.09999999999999978, 0.08333333333333347, 0.07142857142857154, 0.06249999999999978, 0.05555555555555594]\n",
      "[0.24999999999999978, 0.16666666666666674, 0.12500000000000003, 0.09999999999999978, 0.08333333333333347, 0.07142857142857154, 0.06249999999999978, 0.05555555555555594, 0.049999999999999684]\n",
      "[0.24999999999999978, 0.16666666666666674, 0.12500000000000003, 0.09999999999999978, 0.08333333333333347, 0.07142857142857154, 0.06249999999999978, 0.05555555555555594, 0.049999999999999684, 0.045454545454545275]\n"
     ]
    },
    {
     "data": {
      "text/plain": [
       "[0.24999999999999978,\n",
       " 0.16666666666666674,\n",
       " 0.12500000000000003,\n",
       " 0.09999999999999978,\n",
       " 0.08333333333333347,\n",
       " 0.07142857142857154,\n",
       " 0.06249999999999978,\n",
       " 0.05555555555555594,\n",
       " 0.049999999999999684,\n",
       " 0.045454545454545275]"
      ]
     },
     "execution_count": 3,
     "metadata": {},
     "output_type": "execute_result"
    }
   ],
   "source": [
    "aitkens(lambda x: 1/x, 1, 0.049, 20)"
   ]
  },
  {
   "cell_type": "markdown",
   "metadata": {},
   "source": [
    "### 2.5 - 13(b)"
   ]
  },
  {
   "cell_type": "code",
   "execution_count": 53,
   "metadata": {},
   "outputs": [
    {
     "name": "stdout",
     "output_type": "stream",
     "text": [
      "[0.07954545454545459]\n",
      "[0.07954545454545459, 0.036324786324786335]\n"
     ]
    },
    {
     "data": {
      "text/plain": [
       "[0.07954545454545459, 0.036324786324786335]"
      ]
     },
     "execution_count": 53,
     "metadata": {},
     "output_type": "execute_result"
    }
   ],
   "source": [
    "aitkens(lambda x: 1/(x*x), 1, 0.05, 20)"
   ]
  }
 ],
 "metadata": {
  "kernelspec": {
   "display_name": "Python 3.10.6 64-bit",
   "language": "python",
   "name": "python3"
  },
  "language_info": {
   "codemirror_mode": {
    "name": "ipython",
    "version": 3
   },
   "file_extension": ".py",
   "mimetype": "text/x-python",
   "name": "python",
   "nbconvert_exporter": "python",
   "pygments_lexer": "ipython3",
   "version": "3.10.6"
  },
  "orig_nbformat": 4,
  "vscode": {
   "interpreter": {
    "hash": "916dbcbb3f70747c44a77c7bcd40155683ae19c65e1c03b4aa3499c5328201f1"
   }
  }
 },
 "nbformat": 4,
 "nbformat_minor": 2
}
