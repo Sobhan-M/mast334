{
 "cells": [
  {
   "cell_type": "markdown",
   "metadata": {},
   "source": [
    "# Bisection Method\n",
    "This program includes an implementation of the bisection method used to find the approximate roots of a function."
   ]
  },
  {
   "cell_type": "code",
   "execution_count": 1,
   "metadata": {},
   "outputs": [],
   "source": [
    "import numpy as np\n",
    "import math as math"
   ]
  },
  {
   "cell_type": "code",
   "execution_count": 2,
   "metadata": {},
   "outputs": [],
   "source": [
    "def bisection(f, a, b, trueValue, tolerance, nMax):\n",
    "\tp = a\n",
    "\tfor n in range(nMax + 1):\n",
    "\t\tp = (a+b)/2\n",
    "\n",
    "\t\tprint(f\"Iteration {n}: a = {a} b: {b} f(a) = {f(a)} f(b) = {f(b)} p = {p} f(p) = {f(p)}\")\n",
    "\n",
    "\t\tif abs(trueValue - p) < tolerance:\n",
    "\t\t\treturn p\n",
    "\t\t\n",
    "\t\t# Deciding which side to replace with p based on the sign.\n",
    "\t\tif f(a) * f(p) > 0:\n",
    "\t\t\ta = p\n",
    "\t\telse:\n",
    "\t\t\tb = p\n",
    "\n",
    "\traise Exception(f\"Exceeded maximum iterations {nMax}\")"
   ]
  },
  {
   "cell_type": "markdown",
   "metadata": {},
   "source": [
    "### 2.3 14(a)"
   ]
  },
  {
   "cell_type": "code",
   "execution_count": 4,
   "metadata": {},
   "outputs": [
    {
     "name": "stdout",
     "output_type": "stream",
     "text": [
      "Iteration 0: a = 0 b: 0.48 f(a) = -6.0 f(b) = 9.894544843865265 p = 0.24 f(p) = -5.060937494182507\n",
      "Iteration 1: a = 0.24 b: 0.48 f(a) = -5.060937494182507 f(b) = 9.894544843865265 p = 0.36 f(p) = -3.874891826842797\n",
      "Iteration 2: a = 0.36 b: 0.48 f(a) = -3.874891826842797 f(b) = 9.894544843865265 p = 0.42 f(p) = -2.105257145070144\n",
      "Iteration 3: a = 0.42 b: 0.48 f(a) = -2.105257145070144 f(b) = 9.894544843865265 p = 0.44999999999999996 f(p) = 0.3137515146750314\n",
      "Iteration 4: a = 0.42 b: 0.44999999999999996 f(a) = -2.105257145070144 f(b) = 0.3137515146750314 p = 0.43499999999999994 f(p) = -1.171182647807246\n",
      "Iteration 5: a = 0.43499999999999994 b: 0.44999999999999996 f(a) = -1.171182647807246 f(b) = 0.3137515146750314 p = 0.44249999999999995 f(p) = -0.5245211508218706\n",
      "Iteration 6: a = 0.44249999999999995 b: 0.44999999999999996 f(a) = -0.5245211508218706 f(b) = 0.3137515146750314 p = 0.4462499999999999 f(p) = -0.13434976287736955\n",
      "Iteration 7: a = 0.4462499999999999 b: 0.44999999999999996 f(a) = -0.13434976287736955 f(b) = 0.3137515146750314 p = 0.44812499999999994 f(p) = 0.08167438867622234\n",
      "Iteration 8: a = 0.4462499999999999 b: 0.44812499999999994 f(a) = -0.13434976287736955 f(b) = 0.08167438867622234 p = 0.44718749999999996 f(p) = -0.028237440581283302\n",
      "Iteration 9: a = 0.44718749999999996 b: 0.44812499999999994 f(a) = -0.028237440581283302 f(b) = 0.08167438867622234 p = 0.44765625 f(p) = 0.0262307752703812\n",
      "Iteration 10: a = 0.44718749999999996 b: 0.44765625 f(a) = -0.028237440581283302 f(b) = 0.0262307752703812 p = 0.44742187499999997 f(p) = -0.0011236267485612572\n",
      "Finished 10 iterations\n"
     ]
    }
   ],
   "source": [
    "try:\n",
    "\tbisection(lambda x: np.tan(np.pi * x) - 6, 0, 0.48, 0.447431543, 0.000000000001, 10)\n",
    "except:\n",
    "\tprint(\"Finished 10 iterations\")"
   ]
  },
  {
   "cell_type": "code",
   "execution_count": 5,
   "metadata": {},
   "outputs": [
    {
     "data": {
      "text/plain": [
       "9.668000000018218e-06"
      ]
     },
     "execution_count": 5,
     "metadata": {},
     "output_type": "execute_result"
    }
   ],
   "source": [
    "0.447431543-0.44742187499999997"
   ]
  },
  {
   "cell_type": "code",
   "execution_count": 4,
   "metadata": {},
   "outputs": [],
   "source": [
    "def bisection2(f, a, b, tolerance, nMax):\n",
    "\tp = a\n",
    "\tfor n in range(nMax + 1):\n",
    "\t\tpOld = p\n",
    "\t\tp = (a+b)/2\n",
    "\n",
    "\t\tprint(f\"Iteration {n}: a = {a} b: {b} f(a) = {f(a)} f(b) = {f(b)} p = {p} f(p) = {f(p)}\")\n",
    "\n",
    "\t\tif abs(pOld - p)/abs(p) < tolerance:\n",
    "\t\t\treturn p\n",
    "\t\t\n",
    "\t\t# Deciding which side to replace with p based on the sign.\n",
    "\t\tif f(a) * f(p) > 0:\n",
    "\t\t\ta = p\n",
    "\t\telse:\n",
    "\t\t\tb = p\n",
    "\n",
    "\traise Exception(f\"Exceeded maximum iterations {nMax}\")"
   ]
  }
 ],
 "metadata": {
  "kernelspec": {
   "display_name": "Python 3.10.4 64-bit",
   "language": "python",
   "name": "python3"
  },
  "language_info": {
   "codemirror_mode": {
    "name": "ipython",
    "version": 3
   },
   "file_extension": ".py",
   "mimetype": "text/x-python",
   "name": "python",
   "nbconvert_exporter": "python",
   "pygments_lexer": "ipython3",
   "version": "3.10.6"
  },
  "orig_nbformat": 4,
  "vscode": {
   "interpreter": {
    "hash": "916dbcbb3f70747c44a77c7bcd40155683ae19c65e1c03b4aa3499c5328201f1"
   }
  }
 },
 "nbformat": 4,
 "nbformat_minor": 2
}
