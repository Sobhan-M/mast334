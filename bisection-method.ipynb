{
 "cells": [
  {
   "cell_type": "markdown",
   "metadata": {},
   "source": [
    "# Bisection Method\n",
    "This program includes an implementation of the bisection method used to find the approximate roots of a function."
   ]
  },
  {
   "cell_type": "code",
   "execution_count": 1,
   "metadata": {},
   "outputs": [],
   "source": [
    "import numpy as np\n",
    "import math as math"
   ]
  },
  {
   "cell_type": "code",
   "execution_count": 2,
   "metadata": {},
   "outputs": [],
   "source": [
    "def bisection(f, a, b, trueValue, tolerance, nMax):\n",
    "\tp = a\n",
    "\tfor n in range(nMax + 1):\n",
    "\t\tp = (a+b)/2\n",
    "\n",
    "\t\tprint(f\"Iteration {n}: a = {a} b: {b} f(a) = {f(a)} f(b) = {f(b)} p = {p} f(p) = {f(p)}\")\n",
    "\n",
    "\t\tif abs(trueValue - p) < tolerance:\n",
    "\t\t\treturn p\n",
    "\t\t\n",
    "\t\t# Deciding which side to replace with p based on the sign.\n",
    "\t\tif f(a) * f(p) > 0:\n",
    "\t\t\ta = p\n",
    "\t\telse:\n",
    "\t\t\tb = p\n",
    "\n",
    "\traise Exception(f\"Exceeded maximum iterations {nMax}\")"
   ]
  },
  {
   "cell_type": "code",
   "execution_count": 39,
   "metadata": {},
   "outputs": [
    {
     "name": "stdout",
     "output_type": "stream",
     "text": [
      "Iteration 0: a = 1 b: 2 f(a) = -2 f(b) = 1 p = 1.5 f(p) = -0.75\n",
      "Iteration 1: a = 1.5 b: 2 f(a) = -0.75 f(b) = 1 p = 1.75 f(p) = 0.0625\n",
      "Iteration 2: a = 1.5 b: 1.75 f(a) = -0.75 f(b) = 0.0625 p = 1.625 f(p) = -0.359375\n",
      "Iteration 3: a = 1.625 b: 1.75 f(a) = -0.359375 f(b) = 0.0625 p = 1.6875 f(p) = -0.15234375\n",
      "Iteration 4: a = 1.6875 b: 1.75 f(a) = -0.15234375 f(b) = 0.0625 p = 1.71875 f(p) = -0.0458984375\n",
      "Iteration 5: a = 1.71875 b: 1.75 f(a) = -0.0458984375 f(b) = 0.0625 p = 1.734375 f(p) = 0.008056640625\n",
      "Iteration 6: a = 1.71875 b: 1.734375 f(a) = -0.0458984375 f(b) = 0.008056640625 p = 1.7265625 f(p) = -0.01898193359375\n",
      "Iteration 7: a = 1.7265625 b: 1.734375 f(a) = -0.01898193359375 f(b) = 0.008056640625 p = 1.73046875 f(p) = -0.0054779052734375\n",
      "Iteration 8: a = 1.73046875 b: 1.734375 f(a) = -0.0054779052734375 f(b) = 0.008056640625 p = 1.732421875 f(p) = 0.001285552978515625\n",
      "Iteration 9: a = 1.73046875 b: 1.732421875 f(a) = -0.0054779052734375 f(b) = 0.001285552978515625 p = 1.7314453125 f(p) = -0.0020971298217773438\n",
      "Iteration 10: a = 1.7314453125 b: 1.732421875 f(a) = -0.0020971298217773438 f(b) = 0.001285552978515625 p = 1.73193359375 f(p) = -0.00040602684020996094\n",
      "Iteration 11: a = 1.73193359375 b: 1.732421875 f(a) = -0.00040602684020996094 f(b) = 0.001285552978515625 p = 1.732177734375 f(p) = 0.00043970346450805664\n",
      "Iteration 12: a = 1.73193359375 b: 1.732177734375 f(a) = -0.00040602684020996094 f(b) = 0.00043970346450805664 p = 1.7320556640625 f(p) = 1.6823410987854004e-05\n"
     ]
    },
    {
     "data": {
      "text/plain": [
       "1.7320556640625"
      ]
     },
     "execution_count": 39,
     "metadata": {},
     "output_type": "execute_result"
    }
   ],
   "source": [
    "bisection(lambda x : x*x - 3, 1, 2, 1.732050808, 0.0001, 100)"
   ]
  },
  {
   "cell_type": "code",
   "execution_count": 38,
   "metadata": {},
   "outputs": [
    {
     "name": "stdout",
     "output_type": "stream",
     "text": [
      "Iteration 0: a = 1 b: 2 f(a) = -1 f(b) = 5 p = 1.5 f(p) = 0.875\n",
      "Iteration 1: a = 1 b: 1.5 f(a) = -1 f(b) = 0.875 p = 1.25 f(p) = -0.296875\n",
      "Iteration 2: a = 1.25 b: 1.5 f(a) = -0.296875 f(b) = 0.875 p = 1.375 f(p) = 0.224609375\n",
      "Iteration 3: a = 1.25 b: 1.375 f(a) = -0.296875 f(b) = 0.224609375 p = 1.3125 f(p) = -0.051513671875\n",
      "Iteration 4: a = 1.3125 b: 1.375 f(a) = -0.051513671875 f(b) = 0.224609375 p = 1.34375 f(p) = 0.082611083984375\n",
      "Iteration 5: a = 1.3125 b: 1.34375 f(a) = -0.051513671875 f(b) = 0.082611083984375 p = 1.328125 f(p) = 0.014575958251953125\n",
      "Iteration 6: a = 1.3125 b: 1.328125 f(a) = -0.051513671875 f(b) = 0.014575958251953125 p = 1.3203125 f(p) = -0.018710613250732422\n",
      "Iteration 7: a = 1.3203125 b: 1.328125 f(a) = -0.018710613250732422 f(b) = 0.014575958251953125 p = 1.32421875 f(p) = -0.0021279454231262207\n",
      "Iteration 8: a = 1.32421875 b: 1.328125 f(a) = -0.0021279454231262207 f(b) = 0.014575958251953125 p = 1.326171875 f(p) = 0.006208829581737518\n",
      "Iteration 9: a = 1.32421875 b: 1.326171875 f(a) = -0.0021279454231262207 f(b) = 0.006208829581737518 p = 1.3251953125 f(p) = 0.002036650665104389\n",
      "Iteration 10: a = 1.32421875 b: 1.3251953125 f(a) = -0.0021279454231262207 f(b) = 0.002036650665104389 p = 1.32470703125 f(p) = -4.659488331526518e-05\n"
     ]
    },
    {
     "data": {
      "text/plain": [
       "1.32470703125"
      ]
     },
     "execution_count": 38,
     "metadata": {},
     "output_type": "execute_result"
    }
   ],
   "source": [
    "bisection(lambda x : x*x*x - x - 1, 1, 2, 1.32472, 0.0001, 100)"
   ]
  },
  {
   "cell_type": "code",
   "execution_count": 57,
   "metadata": {},
   "outputs": [
    {
     "data": {
      "text/plain": [
       "9.810346164407235e-05"
      ]
     },
     "execution_count": 57,
     "metadata": {},
     "output_type": "execute_result"
    }
   ],
   "source": [
    "g(1)\n",
    "g(0.16616106033325195)"
   ]
  },
  {
   "cell_type": "code",
   "execution_count": 4,
   "metadata": {},
   "outputs": [],
   "source": [
    "def bisection2(f, a, b, tolerance, nMax):\n",
    "\tp = a\n",
    "\tfor n in range(nMax + 1):\n",
    "\t\tpOld = p\n",
    "\t\tp = (a+b)/2\n",
    "\n",
    "\t\tprint(f\"Iteration {n}: a = {a} b: {b} f(a) = {f(a)} f(b) = {f(b)} p = {p} f(p) = {f(p)}\")\n",
    "\n",
    "\t\tif abs(pOld - p)/abs(p) < tolerance:\n",
    "\t\t\treturn p\n",
    "\t\t\n",
    "\t\t# Deciding which side to replace with p based on the sign.\n",
    "\t\tif f(a) * f(p) > 0:\n",
    "\t\t\ta = p\n",
    "\t\telse:\n",
    "\t\t\tb = p\n",
    "\n",
    "\traise Exception(f\"Exceeded maximum iterations {nMax}\")"
   ]
  },
  {
   "cell_type": "code",
   "execution_count": 15,
   "metadata": {},
   "outputs": [],
   "source": [
    "V = 12.4\n",
    "L = 10\n",
    "r = 1\n",
    "\n",
    "g = lambda h : L*((0.5*np.pi*r*r)-(r*r*np.arcsin(h/r)) - (h*np.sqrt((r*r-h*h)))) - V"
   ]
  },
  {
   "cell_type": "code",
   "execution_count": 16,
   "metadata": {},
   "outputs": [
    {
     "name": "stdout",
     "output_type": "stream",
     "text": [
      "Iteration 0: a = 0 b: 1 f(a) = 3.3079632679489652 f(b) = -12.4 p = 0.5 f(p) = -6.258151506956217\n",
      "Iteration 1: a = 0 b: 0.5 f(a) = 3.3079632679489652 f(b) = -6.258151506956217 p = 0.25 f(p) = -1.6394538748514567\n",
      "Iteration 2: a = 0 b: 0.25 f(a) = 3.3079632679489652 f(b) = -1.6394538748514567 p = 0.125 f(p) = 0.8144890292067846\n",
      "Iteration 3: a = 0.125 b: 0.25 f(a) = 0.8144890292067846 f(b) = -1.6394538748514567 p = 0.1875 f(p) = -0.4199467241373078\n",
      "Iteration 4: a = 0.125 b: 0.1875 f(a) = 0.8144890292067846 f(b) = -0.4199467241373078 p = 0.15625 f(p) = 0.1957259025413176\n"
     ]
    },
    {
     "data": {
      "text/plain": [
       "0.15625"
      ]
     },
     "execution_count": 16,
     "metadata": {},
     "output_type": "execute_result"
    }
   ],
   "source": [
    "bisection(g, 0, 1, 0.166166, 0.01, 20)"
   ]
  },
  {
   "cell_type": "code",
   "execution_count": 14,
   "metadata": {},
   "outputs": [
    {
     "name": "stdout",
     "output_type": "stream",
     "text": [
      "Iteration 0: a = 0 b: 1 f(a) = 3.3079632679489652 f(b) = -12.4 p = 0.5 f(p) = -6.258151506956217\n",
      "Iteration 1: a = 0 b: 0.5 f(a) = 3.3079632679489652 f(b) = -6.258151506956217 p = 0.25 f(p) = -1.6394538748514567\n",
      "Iteration 2: a = 0 b: 0.25 f(a) = 3.3079632679489652 f(b) = -1.6394538748514567 p = 0.125 f(p) = 0.8144890292067846\n",
      "Iteration 3: a = 0.125 b: 0.25 f(a) = 0.8144890292067846 f(b) = -1.6394538748514567 p = 0.1875 f(p) = -0.4199467241373078\n",
      "Iteration 4: a = 0.125 b: 0.1875 f(a) = 0.8144890292067846 f(b) = -0.4199467241373078 p = 0.15625 f(p) = 0.1957259025413176\n",
      "Iteration 5: a = 0.15625 b: 0.1875 f(a) = 0.1957259025413176 f(b) = -0.4199467241373078 p = 0.171875 f(p) = -0.11253639384839786\n",
      "Iteration 6: a = 0.15625 b: 0.171875 f(a) = 0.1957259025413176 f(b) = -0.11253639384839786 p = 0.1640625 f(p) = 0.04149324142395905\n",
      "Iteration 7: a = 0.1640625 b: 0.171875 f(a) = 0.04149324142395905 f(b) = -0.11253639384839786 p = 0.16796875 f(p) = -0.03554757570547373\n",
      "Iteration 8: a = 0.1640625 b: 0.16796875 f(a) = 0.04149324142395905 f(b) = -0.03554757570547373 p = 0.166015625 f(p) = 0.0029664107403899465\n",
      "Iteration 9: a = 0.166015625 b: 0.16796875 f(a) = 0.0029664107403899465 f(b) = -0.03554757570547373 p = 0.1669921875 f(p) = -0.01629219772543422\n"
     ]
    },
    {
     "data": {
      "text/plain": [
       "0.1669921875"
      ]
     },
     "execution_count": 14,
     "metadata": {},
     "output_type": "execute_result"
    }
   ],
   "source": [
    "bisection2(g, 0, 1, 0.01, 20)"
   ]
  }
 ],
 "metadata": {
  "kernelspec": {
   "display_name": "Python 3.10.4 64-bit",
   "language": "python",
   "name": "python3"
  },
  "language_info": {
   "codemirror_mode": {
    "name": "ipython",
    "version": 3
   },
   "file_extension": ".py",
   "mimetype": "text/x-python",
   "name": "python",
   "nbconvert_exporter": "python",
   "pygments_lexer": "ipython3",
   "version": "3.10.6"
  },
  "orig_nbformat": 4,
  "vscode": {
   "interpreter": {
    "hash": "916dbcbb3f70747c44a77c7bcd40155683ae19c65e1c03b4aa3499c5328201f1"
   }
  }
 },
 "nbformat": 4,
 "nbformat_minor": 2
}
