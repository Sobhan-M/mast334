{
 "cells": [
  {
   "cell_type": "markdown",
   "metadata": {},
   "source": [
    "# Neville's Method\n",
    "A technique used to approximate a point on the Lagrange polynomial."
   ]
  },
  {
   "cell_type": "code",
   "execution_count": 13,
   "metadata": {},
   "outputs": [],
   "source": [
    "def neville(x,y,x0):\n",
    "\tp = [y]\n",
    "\t# How many iterations there are.\n",
    "\tfor i in range(1,len(x)):\n",
    "\t\tp.append([])\n",
    "\t\t# The unused parts.\n",
    "\t\tfor j in range(i):\n",
    "\t\t\tp[i].append(None)\n",
    "\t\t# How many calculations per iteration.\n",
    "\t\tfor j in range(i, len(x)):\n",
    "\t\t\tp[i].append((((x0-x[j-i])*p[i-1][j]-(x0-x[j])*p[i-1][j-1]))/(x[j]-x[j-i]))\n",
    "\treturn p"
   ]
  },
  {
   "cell_type": "markdown",
   "metadata": {},
   "source": [
    "### 3.2 - 3(a)"
   ]
  },
  {
   "cell_type": "code",
   "execution_count": 15,
   "metadata": {},
   "outputs": [
    {
     "name": "stdout",
     "output_type": "stream",
     "text": [
      "[0.11111, 0.33333, 1, 3, 9]\n",
      "[None, 0.66666, 1.333335, 2.0, 0.0]\n",
      "[None, None, 1.5000037499999999, 1.83333375, 1.5]\n",
      "[None, None, None, 1.7777787499999997, 1.666666875]\n",
      "[None, None, None, None, 1.7083338281249998]\n"
     ]
    }
   ],
   "source": [
    "p = neville([-2,-1,0,1,2],[0.11111,0.33333,1,3,9],0.5)\n",
    "for i in range(len(p)):\n",
    "\tprint(p[i])"
   ]
  },
  {
   "cell_type": "markdown",
   "metadata": {},
   "source": [
    "### 3.2 - 3(b)"
   ]
  },
  {
   "cell_type": "code",
   "execution_count": 16,
   "metadata": {},
   "outputs": [
    {
     "name": "stdout",
     "output_type": "stream",
     "text": [
      "[0, 1, 1.41421, 2, 2.23607]\n",
      "[None, 3.0, 1.82842, 1.7071049999999999, 1.7639300000000002]\n",
      "[None, None, 1.2426300000000001, 1.7475433333333334, 1.7260466666666667]\n",
      "[None, None, None, 1.621315, 1.736795]\n",
      "[None, None, None, None, 1.690603]\n"
     ]
    }
   ],
   "source": [
    "p = neville([0,1,2,4,5],[0,1,1.41421,2,2.23607],3)\n",
    "for i in range(len(p)):\n",
    "\tprint(p[i])"
   ]
  }
 ],
 "metadata": {
  "kernelspec": {
   "display_name": "Python 3.10.6 64-bit",
   "language": "python",
   "name": "python3"
  },
  "language_info": {
   "codemirror_mode": {
    "name": "ipython",
    "version": 3
   },
   "file_extension": ".py",
   "mimetype": "text/x-python",
   "name": "python",
   "nbconvert_exporter": "python",
   "pygments_lexer": "ipython3",
   "version": "3.10.6"
  },
  "orig_nbformat": 4,
  "vscode": {
   "interpreter": {
    "hash": "916dbcbb3f70747c44a77c7bcd40155683ae19c65e1c03b4aa3499c5328201f1"
   }
  }
 },
 "nbformat": 4,
 "nbformat_minor": 2
}
