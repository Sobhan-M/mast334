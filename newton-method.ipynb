{
 "cells": [
  {
   "cell_type": "markdown",
   "metadata": {},
   "source": [
    "# Newton Method\n",
    "I will be implementing the Newton, secant, and false position methods of finding the root of a function."
   ]
  },
  {
   "cell_type": "code",
   "execution_count": 2,
   "metadata": {},
   "outputs": [],
   "source": [
    "import numpy as np"
   ]
  },
  {
   "cell_type": "markdown",
   "metadata": {},
   "source": [
    "## Newton"
   ]
  },
  {
   "cell_type": "code",
   "execution_count": 6,
   "metadata": {},
   "outputs": [],
   "source": [
    "def newton(f, fprime, x0, tolerance, nMax):\n",
    "\tp = x0\n",
    "\tfor n in range(nMax+1):\n",
    "\t\tprint(f\"Iteration {n}: p = {p} f(p) = {f(p)}\")\n",
    "\t\t\n",
    "\t\tif abs(f(p)) < tolerance:\n",
    "\t\t\treturn p\n",
    "\t\t\n",
    "\t\tp = p - f(p)/fprime(p)\n",
    "\traise Exception(f\"Exceeded maximum iterations {nMax}\")"
   ]
  },
  {
   "cell_type": "markdown",
   "metadata": {},
   "source": [
    "## Secant"
   ]
  },
  {
   "cell_type": "code",
   "execution_count": 13,
   "metadata": {},
   "outputs": [],
   "source": [
    "def secant(f, x0, x1, tolerance, nMax):\n",
    "\tp0 = x0\n",
    "\tp1 = x1\n",
    "\t\n",
    "\tfor n in range(nMax+1):\n",
    "\t\tp2 = p1 - (f(p1) * (p1 - p0))/(f(p1) - f(p0))\n",
    "\n",
    "\t\tprint(f\"Iteration {n}: p0 = {p0} p1 = {p1} p2 = {p2} f(p2) = {f(p2)}\")\n",
    "\t\t\n",
    "\t\tif abs(f(p2)) < tolerance:\n",
    "\t\t\treturn p2\n",
    "\t\t\n",
    "\t\tp0 = p1\n",
    "\t\tp1 = p2\n",
    "\t\t\n",
    "\traise Exception(f\"Exceeded maximum iterations {nMax}\")"
   ]
  },
  {
   "cell_type": "markdown",
   "metadata": {},
   "source": [
    "## False Position"
   ]
  },
  {
   "cell_type": "code",
   "execution_count": 15,
   "metadata": {},
   "outputs": [],
   "source": [
    "def falsePosition(f, x0, x1, tolerance, nMax):\n",
    "\tp0 = x0\n",
    "\tp1 = x1\n",
    "\n",
    "\tfor n in range(nMax+1):\n",
    "\t\tp2 = p1 - (f(p1) * (p1 - p0))/(f(p1) - f(p0))\n",
    "\n",
    "\t\tprint(f\"Iteration {n}: p0 = {p0} p1 = {p1} p2 = {p2} f(p2) = {f(p2)}\")\n",
    "\n",
    "\t\tif abs(f(p2)) < tolerance:\n",
    "\t\t\treturn p2\n",
    "\n",
    "\t\tif np.sign(f(p2)) * np.sign(f(p1)) < 0:\n",
    "\t\t\tp0 = p1\n",
    "\t\tp1 = p2\n",
    "\t\n",
    "\traise Exception(f\"Exceeded maximum iterations {nMax}\")"
   ]
  }
 ],
 "metadata": {
  "kernelspec": {
   "display_name": "Python 3.10.6 64-bit",
   "language": "python",
   "name": "python3"
  },
  "language_info": {
   "codemirror_mode": {
    "name": "ipython",
    "version": 3
   },
   "file_extension": ".py",
   "mimetype": "text/x-python",
   "name": "python",
   "nbconvert_exporter": "python",
   "pygments_lexer": "ipython3",
   "version": "3.10.6"
  },
  "orig_nbformat": 4,
  "vscode": {
   "interpreter": {
    "hash": "916dbcbb3f70747c44a77c7bcd40155683ae19c65e1c03b4aa3499c5328201f1"
   }
  }
 },
 "nbformat": 4,
 "nbformat_minor": 2
}
