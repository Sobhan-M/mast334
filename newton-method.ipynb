{
 "cells": [
  {
   "cell_type": "markdown",
   "metadata": {},
   "source": [
    "# Newton Method\n",
    "I will be implementing the Newton, secant, and false position methods of finding the root of a function."
   ]
  },
  {
   "cell_type": "code",
   "execution_count": 2,
   "metadata": {},
   "outputs": [],
   "source": [
    "import numpy as np"
   ]
  },
  {
   "cell_type": "markdown",
   "metadata": {},
   "source": [
    "## Newton"
   ]
  },
  {
   "cell_type": "code",
   "execution_count": 6,
   "metadata": {},
   "outputs": [],
   "source": [
    "def newton(f, fprime, x0, tolerance, nMax):\n",
    "\tp = x0\n",
    "\tfor n in range(nMax+1):\n",
    "\t\tprint(f\"Iteration {n}: p = {p} f(p) = {f(p)}\")\n",
    "\t\t\n",
    "\t\tif abs(f(p)) < tolerance:\n",
    "\t\t\treturn p\n",
    "\t\t\n",
    "\t\tp = p - f(p)/fprime(p)\n",
    "\traise Exception(f\"Exceeded maximum iterations {nMax}\")"
   ]
  },
  {
   "cell_type": "markdown",
   "metadata": {},
   "source": [
    "### 2.3 - 6(b)"
   ]
  },
  {
   "cell_type": "code",
   "execution_count": 18,
   "metadata": {},
   "outputs": [
    {
     "name": "stdout",
     "output_type": "stream",
     "text": [
      "Iteration 0: p = 1.3 f(p) = -0.24863631520032992\n",
      "Iteration 1: p = 1.3818471396470386 f(p) = -0.03475699865754878\n",
      "Iteration 2: p = 1.3973207329391417 f(p) = -0.0009103903405381919\n",
      "Iteration 3: p = 1.3977481644736214 f(p) = -6.624694446344392e-07\n"
     ]
    },
    {
     "data": {
      "text/plain": [
       "1.3977481644736214"
      ]
     },
     "execution_count": 18,
     "metadata": {},
     "output_type": "execute_result"
    }
   ],
   "source": [
    "g = lambda x : np.log(x-1) + np.cos(x-1)\n",
    "gp = lambda x : 1/(x-1) + np.sin(1-x)\n",
    "newton(g, gp, 1.3, 0.00001, 30)"
   ]
  },
  {
   "cell_type": "markdown",
   "metadata": {},
   "source": [
    "## Secant"
   ]
  },
  {
   "cell_type": "code",
   "execution_count": 13,
   "metadata": {},
   "outputs": [],
   "source": [
    "def secant(f, x0, x1, tolerance, nMax):\n",
    "\tp0 = x0\n",
    "\tp1 = x1\n",
    "\t\n",
    "\tfor n in range(nMax+1):\n",
    "\t\tp2 = p1 - (f(p1) * (p1 - p0))/(f(p1) - f(p0))\n",
    "\n",
    "\t\tprint(f\"Iteration {n}: p0 = {p0} p1 = {p1} p2 = {p2} f(p2) = {f(p2)}\")\n",
    "\t\t\n",
    "\t\tif abs(f(p2)) < tolerance:\n",
    "\t\t\treturn p2\n",
    "\t\t\n",
    "\t\tp0 = p1\n",
    "\t\tp1 = p2\n",
    "\t\t\n",
    "\traise Exception(f\"Exceeded maximum iterations {nMax}\")"
   ]
  },
  {
   "cell_type": "markdown",
   "metadata": {},
   "source": [
    "### 2.3 - 8(b)"
   ]
  },
  {
   "cell_type": "code",
   "execution_count": 19,
   "metadata": {},
   "outputs": [
    {
     "name": "stdout",
     "output_type": "stream",
     "text": [
      "Iteration 0: p0 = 1.3 p1 = 2 p2 = 1.5206070484982963 f(p2) = 0.21475764212452297\n",
      "Iteration 1: p0 = 2 p1 = 1.5206070484982963 p2 = 1.2043576628327315 f(p2) = -0.6086920298206075\n",
      "Iteration 2: p0 = 1.5206070484982963 p1 = 1.2043576628327315 p2 = 1.4381284530202825 f(p2) = 0.08030410407736588\n",
      "Iteration 3: p0 = 1.2043576628327315 p1 = 1.4381284530202825 p2 = 1.4108819229719018 f(p2) = 0.027319525674856848\n",
      "Iteration 4: p0 = 1.4381284530202825 p1 = 1.4108819229719018 p2 = 1.3968332639158123 f(p2) = -0.001949517889883845\n",
      "Iteration 5: p0 = 1.4108819229719018 p1 = 1.3968332639158123 p2 = 1.3977690004081287 f(p2) = 4.3650040029485915e-05\n",
      "Iteration 6: p0 = 1.3968332639158123 p1 = 1.3977690004081287 p2 = 1.3977485079374574 f(p2) = 6.801257712574227e-08\n"
     ]
    },
    {
     "data": {
      "text/plain": [
       "1.3977485079374574"
      ]
     },
     "execution_count": 19,
     "metadata": {},
     "output_type": "execute_result"
    }
   ],
   "source": [
    "g = lambda x : np.log(x-1) + np.cos(x-1)\n",
    "secant(g, 1.3, 2, 0.00001, 30)"
   ]
  },
  {
   "cell_type": "markdown",
   "metadata": {},
   "source": [
    "### 2.3 - 21"
   ]
  },
  {
   "cell_type": "code",
   "execution_count": 37,
   "metadata": {},
   "outputs": [
    {
     "name": "stdout",
     "output_type": "stream",
     "text": [
      "Iteration 0: p0 = 5 p1 = 8 p2 = 6.843941237403427 f(p2) = 3.219518674860012\n",
      "Iteration 1: p0 = 8 p1 = 6.843941237403427 p2 = 6.415262312206039 f(p2) = -1.0119829229498407\n",
      "Iteration 2: p0 = 6.843941237403427 p1 = 6.415262312206039 p2 = 6.517782833987901 f(p2) = 0.05040243474704198\n",
      "Iteration 3: p0 = 6.415262312206039 p1 = 6.517782833987901 p2 = 6.512918983152697 f(p2) = 0.000718199355304705\n",
      "Iteration 4: p0 = 6.517782833987901 p1 = 6.512918983152697 p2 = 6.5128486748445065 f(p2) = -5.240455607236072e-07\n"
     ]
    },
    {
     "data": {
      "text/plain": [
       "6.5128486748445065"
      ]
     },
     "execution_count": 37,
     "metadata": {},
     "output_type": "execute_result"
    }
   ],
   "source": [
    "g = lambda x : (x+np.sqrt(x))*(20-x+np.sqrt(20-x))-155.55\n",
    "secant(g, 5, 8, 0.0001, 20)"
   ]
  },
  {
   "cell_type": "markdown",
   "metadata": {},
   "source": [
    "## False Position"
   ]
  },
  {
   "cell_type": "code",
   "execution_count": 15,
   "metadata": {},
   "outputs": [],
   "source": [
    "def falsePosition(f, x0, x1, tolerance, nMax):\n",
    "\tp0 = x0\n",
    "\tp1 = x1\n",
    "\n",
    "\tfor n in range(nMax+1):\n",
    "\t\tp2 = p1 - (f(p1) * (p1 - p0))/(f(p1) - f(p0))\n",
    "\n",
    "\t\tprint(f\"Iteration {n}: p0 = {p0} p1 = {p1} p2 = {p2} f(p2) = {f(p2)}\")\n",
    "\n",
    "\t\tif abs(f(p2)) < tolerance:\n",
    "\t\t\treturn p2\n",
    "\n",
    "\t\tif np.sign(f(p2)) * np.sign(f(p1)) < 0:\n",
    "\t\t\tp0 = p1\n",
    "\t\tp1 = p2\n",
    "\t\n",
    "\traise Exception(f\"Exceeded maximum iterations {nMax}\")"
   ]
  },
  {
   "cell_type": "markdown",
   "metadata": {},
   "source": [
    "### 2.3 - 14(b)"
   ]
  },
  {
   "cell_type": "code",
   "execution_count": 20,
   "metadata": {},
   "outputs": [
    {
     "name": "stdout",
     "output_type": "stream",
     "text": [
      "Iteration 0: p0 = 0 p1 = 0.48 p2 = 0.18119424169051174 f(p2) = -5.360105281561882\n",
      "Iteration 1: p0 = 0.48 p1 = 0.18119424169051174 p2 = 0.2861871658222898 f(p2) = -4.7422109536614165\n",
      "Iteration 2: p0 = 0.48 p1 = 0.2861871658222898 p2 = 0.3489812274239058 f(p2) = -4.052821259004907\n",
      "Iteration 3: p0 = 0.48 p1 = 0.3489812274239058 p2 = 0.38705262118447054 f(p2) = -3.3010690668052756\n",
      "Iteration 4: p0 = 0.48 p1 = 0.38705262118447054 p2 = 0.41030471988375605 f(p2) = -2.545637755326749\n",
      "Iteration 5: p0 = 0.48 p1 = 0.41030471988375605 p2 = 0.4245664829260049 f(p2) = -1.8595503852593884\n",
      "Iteration 6: p0 = 0.48 p1 = 0.4245664829260049 p2 = 0.43333631301686654 f(p2) = -1.2951533289872241\n",
      "Iteration 7: p0 = 0.48 p1 = 0.43333631301686654 p2 = 0.4387374086143912 f(p2) = -0.8684850457776108\n",
      "Iteration 8: p0 = 0.48 p1 = 0.4387374086143912 p2 = 0.44206694908170124 f(p2) = -0.5663580536786963\n",
      "Iteration 9: p0 = 0.48 p1 = 0.44206694908170124 p2 = 0.44412066175818793 f(p2) = -0.36225833254754836\n",
      "Iteration 10: p0 = 0.48 p1 = 0.44412066175818793 p2 = 0.4453878781628352 f(p2) = -0.22874483704061266\n",
      "Finished 10 iterations\n"
     ]
    }
   ],
   "source": [
    "try:\n",
    "\tfalsePosition(lambda x: np.tan(np.pi * x) - 6, 0, 0.48, 0.000000000001, 10)\n",
    "except:\n",
    "\tprint(\"Finished 10 iterations\")"
   ]
  },
  {
   "cell_type": "code",
   "execution_count": 21,
   "metadata": {},
   "outputs": [
    {
     "data": {
      "text/plain": [
       "-0.0020436648371647825"
      ]
     },
     "execution_count": 21,
     "metadata": {},
     "output_type": "execute_result"
    }
   ],
   "source": [
    "0.4453878781628352-0.447431543"
   ]
  }
 ],
 "metadata": {
  "kernelspec": {
   "display_name": "Python 3.10.6 64-bit",
   "language": "python",
   "name": "python3"
  },
  "language_info": {
   "codemirror_mode": {
    "name": "ipython",
    "version": 3
   },
   "file_extension": ".py",
   "mimetype": "text/x-python",
   "name": "python",
   "nbconvert_exporter": "python",
   "pygments_lexer": "ipython3",
   "version": "3.10.6"
  },
  "orig_nbformat": 4,
  "vscode": {
   "interpreter": {
    "hash": "916dbcbb3f70747c44a77c7bcd40155683ae19c65e1c03b4aa3499c5328201f1"
   }
  }
 },
 "nbformat": 4,
 "nbformat_minor": 2
}
